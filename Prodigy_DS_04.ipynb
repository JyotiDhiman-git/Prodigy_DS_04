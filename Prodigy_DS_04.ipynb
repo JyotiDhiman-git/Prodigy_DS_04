{
 "cells": [
  {
   "cell_type": "markdown",
   "id": "967611bd",
   "metadata": {},
   "source": [
    "# Import Libraries"
   ]
  },
  {
   "cell_type": "code",
   "execution_count": 15,
   "id": "1bc4fab3",
   "metadata": {},
   "outputs": [],
   "source": [
    "import os\n",
    "for dirname, _, filenames in os.walk('/kaggle/input'):\n",
    "    for filename in filenames:\n",
    "        print(os.path.join(dirname, filename))\n",
    "import pandas as pd\n",
    "import numpy as np\n",
    "import seaborn as sns\n",
    "import matplotlib.pyplot as plt"
   ]
  },
  {
   "cell_type": "markdown",
   "id": "f63525e1",
   "metadata": {},
   "source": [
    "# Import Dataset"
   ]
  },
  {
   "cell_type": "code",
   "execution_count": 6,
   "id": "479de402",
   "metadata": {},
   "outputs": [
    {
     "data": {
      "text/html": [
       "<div>\n",
       "<style scoped>\n",
       "    .dataframe tbody tr th:only-of-type {\n",
       "        vertical-align: middle;\n",
       "    }\n",
       "\n",
       "    .dataframe tbody tr th {\n",
       "        vertical-align: top;\n",
       "    }\n",
       "\n",
       "    .dataframe thead th {\n",
       "        text-align: right;\n",
       "    }\n",
       "</style>\n",
       "<table border=\"1\" class=\"dataframe\">\n",
       "  <thead>\n",
       "    <tr style=\"text-align: right;\">\n",
       "      <th></th>\n",
       "      <th>index</th>\n",
       "      <th>Date</th>\n",
       "      <th>Time</th>\n",
       "      <th>Location</th>\n",
       "      <th>Operator</th>\n",
       "      <th>Flight #</th>\n",
       "      <th>Route</th>\n",
       "      <th>Type</th>\n",
       "      <th>Registration</th>\n",
       "      <th>cn/In</th>\n",
       "      <th>Aboard</th>\n",
       "      <th>Fatalities</th>\n",
       "      <th>Ground</th>\n",
       "      <th>Summary</th>\n",
       "    </tr>\n",
       "  </thead>\n",
       "  <tbody>\n",
       "    <tr>\n",
       "      <th>0</th>\n",
       "      <td>0</td>\n",
       "      <td>09/17/1908</td>\n",
       "      <td>17:18</td>\n",
       "      <td>Fort Myer, Virginia</td>\n",
       "      <td>Military - U.S. Army</td>\n",
       "      <td>NaN</td>\n",
       "      <td>Demonstration</td>\n",
       "      <td>Wright Flyer III</td>\n",
       "      <td>NaN</td>\n",
       "      <td>1</td>\n",
       "      <td>2.0</td>\n",
       "      <td>1.0</td>\n",
       "      <td>0.0</td>\n",
       "      <td>During a demonstration flight, a U.S. Army fly...</td>\n",
       "    </tr>\n",
       "    <tr>\n",
       "      <th>1</th>\n",
       "      <td>1</td>\n",
       "      <td>07/12/1912</td>\n",
       "      <td>06:30</td>\n",
       "      <td>AtlantiCity, New Jersey</td>\n",
       "      <td>Military - U.S. Navy</td>\n",
       "      <td>NaN</td>\n",
       "      <td>Test flight</td>\n",
       "      <td>Dirigible</td>\n",
       "      <td>NaN</td>\n",
       "      <td>NaN</td>\n",
       "      <td>5.0</td>\n",
       "      <td>5.0</td>\n",
       "      <td>0.0</td>\n",
       "      <td>First U.S. dirigible Akron exploded just offsh...</td>\n",
       "    </tr>\n",
       "    <tr>\n",
       "      <th>2</th>\n",
       "      <td>2</td>\n",
       "      <td>08/06/1913</td>\n",
       "      <td>NaN</td>\n",
       "      <td>Victoria, British Columbia, Canada</td>\n",
       "      <td>Private</td>\n",
       "      <td>-</td>\n",
       "      <td>NaN</td>\n",
       "      <td>Curtiss seaplane</td>\n",
       "      <td>NaN</td>\n",
       "      <td>NaN</td>\n",
       "      <td>1.0</td>\n",
       "      <td>1.0</td>\n",
       "      <td>0.0</td>\n",
       "      <td>The first fatal airplane accident in Canada oc...</td>\n",
       "    </tr>\n",
       "    <tr>\n",
       "      <th>3</th>\n",
       "      <td>3</td>\n",
       "      <td>09/09/1913</td>\n",
       "      <td>18:30</td>\n",
       "      <td>Over the North Sea</td>\n",
       "      <td>Military - German Navy</td>\n",
       "      <td>NaN</td>\n",
       "      <td>NaN</td>\n",
       "      <td>Zeppelin L-1 (airship)</td>\n",
       "      <td>NaN</td>\n",
       "      <td>NaN</td>\n",
       "      <td>20.0</td>\n",
       "      <td>14.0</td>\n",
       "      <td>0.0</td>\n",
       "      <td>The airship flew into a thunderstorm and encou...</td>\n",
       "    </tr>\n",
       "    <tr>\n",
       "      <th>4</th>\n",
       "      <td>4</td>\n",
       "      <td>10/17/1913</td>\n",
       "      <td>10:30</td>\n",
       "      <td>Near Johannisthal, Germany</td>\n",
       "      <td>Military - German Navy</td>\n",
       "      <td>NaN</td>\n",
       "      <td>NaN</td>\n",
       "      <td>Zeppelin L-2 (airship)</td>\n",
       "      <td>NaN</td>\n",
       "      <td>NaN</td>\n",
       "      <td>30.0</td>\n",
       "      <td>30.0</td>\n",
       "      <td>0.0</td>\n",
       "      <td>Hydrogen gas which was being vented was sucked...</td>\n",
       "    </tr>\n",
       "    <tr>\n",
       "      <th>...</th>\n",
       "      <td>...</td>\n",
       "      <td>...</td>\n",
       "      <td>...</td>\n",
       "      <td>...</td>\n",
       "      <td>...</td>\n",
       "      <td>...</td>\n",
       "      <td>...</td>\n",
       "      <td>...</td>\n",
       "      <td>...</td>\n",
       "      <td>...</td>\n",
       "      <td>...</td>\n",
       "      <td>...</td>\n",
       "      <td>...</td>\n",
       "      <td>...</td>\n",
       "    </tr>\n",
       "    <tr>\n",
       "      <th>5263</th>\n",
       "      <td>5263</td>\n",
       "      <td>05/20/2009</td>\n",
       "      <td>06:30</td>\n",
       "      <td>Near Madiun, Indonesia</td>\n",
       "      <td>Military - Indonesian Air Force</td>\n",
       "      <td>NaN</td>\n",
       "      <td>Jakarta - Maduin</td>\n",
       "      <td>Lockheed C-130 Hercules</td>\n",
       "      <td>A-1325</td>\n",
       "      <td>1982</td>\n",
       "      <td>112.0</td>\n",
       "      <td>98.0</td>\n",
       "      <td>2.0</td>\n",
       "      <td>While on approach, the military transport cras...</td>\n",
       "    </tr>\n",
       "    <tr>\n",
       "      <th>5264</th>\n",
       "      <td>5264</td>\n",
       "      <td>05/26/2009</td>\n",
       "      <td>NaN</td>\n",
       "      <td>Near Isiro, DemocratiRepubliCongo</td>\n",
       "      <td>Service Air</td>\n",
       "      <td>NaN</td>\n",
       "      <td>Goma - Isiro</td>\n",
       "      <td>Antonov An-26</td>\n",
       "      <td>9Q-CSA</td>\n",
       "      <td>5005</td>\n",
       "      <td>4.0</td>\n",
       "      <td>4.0</td>\n",
       "      <td>NaN</td>\n",
       "      <td>The cargo plane crashed while on approach to I...</td>\n",
       "    </tr>\n",
       "    <tr>\n",
       "      <th>5265</th>\n",
       "      <td>5265</td>\n",
       "      <td>06/01/2009</td>\n",
       "      <td>00:15</td>\n",
       "      <td>AtlantiOcean, 570 miles northeast of Natal, Br...</td>\n",
       "      <td>Air France</td>\n",
       "      <td>447</td>\n",
       "      <td>Rio de Janeiro - Paris</td>\n",
       "      <td>Airbus A330-203</td>\n",
       "      <td>F-GZCP</td>\n",
       "      <td>660</td>\n",
       "      <td>228.0</td>\n",
       "      <td>228.0</td>\n",
       "      <td>0.0</td>\n",
       "      <td>The Airbus went missing over the AtlantiOcean ...</td>\n",
       "    </tr>\n",
       "    <tr>\n",
       "      <th>5266</th>\n",
       "      <td>5266</td>\n",
       "      <td>06/07/2009</td>\n",
       "      <td>08:30</td>\n",
       "      <td>Near Port Hope Simpson, Newfoundland, Canada</td>\n",
       "      <td>Strait Air</td>\n",
       "      <td>NaN</td>\n",
       "      <td>Lourdes de BlanSablon - Port Hope Simpson</td>\n",
       "      <td>Britten-Norman BN-2A-27 Islander</td>\n",
       "      <td>C-FJJR</td>\n",
       "      <td>424</td>\n",
       "      <td>1.0</td>\n",
       "      <td>1.0</td>\n",
       "      <td>0.0</td>\n",
       "      <td>The air ambulance crashed into hills while att...</td>\n",
       "    </tr>\n",
       "    <tr>\n",
       "      <th>5267</th>\n",
       "      <td>5267</td>\n",
       "      <td>06/08/2009</td>\n",
       "      <td>NaN</td>\n",
       "      <td>State of Arunachal Pradesh, India</td>\n",
       "      <td>Military - Indian Air Force</td>\n",
       "      <td>NaN</td>\n",
       "      <td>Mechuka for Jorhat</td>\n",
       "      <td>Antonov An-32</td>\n",
       "      <td>NaN</td>\n",
       "      <td>NaN</td>\n",
       "      <td>13.0</td>\n",
       "      <td>13.0</td>\n",
       "      <td>0.0</td>\n",
       "      <td>The military transport went missing while en r...</td>\n",
       "    </tr>\n",
       "  </tbody>\n",
       "</table>\n",
       "<p>5268 rows × 14 columns</p>\n",
       "</div>"
      ],
      "text/plain": [
       "      index        Date   Time  \\\n",
       "0         0  09/17/1908  17:18   \n",
       "1         1  07/12/1912  06:30   \n",
       "2         2  08/06/1913    NaN   \n",
       "3         3  09/09/1913  18:30   \n",
       "4         4  10/17/1913  10:30   \n",
       "...     ...         ...    ...   \n",
       "5263   5263  05/20/2009  06:30   \n",
       "5264   5264  05/26/2009    NaN   \n",
       "5265   5265  06/01/2009  00:15   \n",
       "5266   5266  06/07/2009  08:30   \n",
       "5267   5267  06/08/2009    NaN   \n",
       "\n",
       "                                               Location  \\\n",
       "0                                   Fort Myer, Virginia   \n",
       "1                               AtlantiCity, New Jersey   \n",
       "2                    Victoria, British Columbia, Canada   \n",
       "3                                    Over the North Sea   \n",
       "4                            Near Johannisthal, Germany   \n",
       "...                                                 ...   \n",
       "5263                             Near Madiun, Indonesia   \n",
       "5264                  Near Isiro, DemocratiRepubliCongo   \n",
       "5265  AtlantiOcean, 570 miles northeast of Natal, Br...   \n",
       "5266       Near Port Hope Simpson, Newfoundland, Canada   \n",
       "5267                  State of Arunachal Pradesh, India   \n",
       "\n",
       "                             Operator Flight #  \\\n",
       "0                Military - U.S. Army      NaN   \n",
       "1                Military - U.S. Navy      NaN   \n",
       "2                             Private        -   \n",
       "3              Military - German Navy      NaN   \n",
       "4              Military - German Navy      NaN   \n",
       "...                               ...      ...   \n",
       "5263  Military - Indonesian Air Force      NaN   \n",
       "5264                      Service Air      NaN   \n",
       "5265                       Air France      447   \n",
       "5266                       Strait Air      NaN   \n",
       "5267      Military - Indian Air Force      NaN   \n",
       "\n",
       "                                          Route  \\\n",
       "0                                 Demonstration   \n",
       "1                                   Test flight   \n",
       "2                                           NaN   \n",
       "3                                           NaN   \n",
       "4                                           NaN   \n",
       "...                                         ...   \n",
       "5263                           Jakarta - Maduin   \n",
       "5264                               Goma - Isiro   \n",
       "5265                     Rio de Janeiro - Paris   \n",
       "5266  Lourdes de BlanSablon - Port Hope Simpson   \n",
       "5267                         Mechuka for Jorhat   \n",
       "\n",
       "                                  Type Registration cn/In  Aboard  Fatalities  \\\n",
       "0                     Wright Flyer III          NaN     1     2.0         1.0   \n",
       "1                            Dirigible          NaN   NaN     5.0         5.0   \n",
       "2                     Curtiss seaplane          NaN   NaN     1.0         1.0   \n",
       "3               Zeppelin L-1 (airship)          NaN   NaN    20.0        14.0   \n",
       "4               Zeppelin L-2 (airship)          NaN   NaN    30.0        30.0   \n",
       "...                                ...          ...   ...     ...         ...   \n",
       "5263           Lockheed C-130 Hercules       A-1325  1982   112.0        98.0   \n",
       "5264                     Antonov An-26       9Q-CSA  5005     4.0         4.0   \n",
       "5265                   Airbus A330-203       F-GZCP   660   228.0       228.0   \n",
       "5266  Britten-Norman BN-2A-27 Islander      C-FJJR    424     1.0         1.0   \n",
       "5267                     Antonov An-32          NaN   NaN    13.0        13.0   \n",
       "\n",
       "      Ground                                            Summary  \n",
       "0        0.0  During a demonstration flight, a U.S. Army fly...  \n",
       "1        0.0  First U.S. dirigible Akron exploded just offsh...  \n",
       "2        0.0  The first fatal airplane accident in Canada oc...  \n",
       "3        0.0  The airship flew into a thunderstorm and encou...  \n",
       "4        0.0  Hydrogen gas which was being vented was sucked...  \n",
       "...      ...                                                ...  \n",
       "5263     2.0  While on approach, the military transport cras...  \n",
       "5264     NaN  The cargo plane crashed while on approach to I...  \n",
       "5265     0.0  The Airbus went missing over the AtlantiOcean ...  \n",
       "5266     0.0  The air ambulance crashed into hills while att...  \n",
       "5267     0.0  The military transport went missing while en r...  \n",
       "\n",
       "[5268 rows x 14 columns]"
      ]
     },
     "execution_count": 6,
     "metadata": {},
     "output_type": "execute_result"
    }
   ],
   "source": [
    "df = pd.read_csv('Airplane_crashes_and_Fatalities.csv')\n",
    "df"
   ]
  },
  {
   "cell_type": "code",
   "execution_count": 3,
   "id": "c7e2f375",
   "metadata": {},
   "outputs": [
    {
     "data": {
      "text/html": [
       "<div>\n",
       "<style scoped>\n",
       "    .dataframe tbody tr th:only-of-type {\n",
       "        vertical-align: middle;\n",
       "    }\n",
       "\n",
       "    .dataframe tbody tr th {\n",
       "        vertical-align: top;\n",
       "    }\n",
       "\n",
       "    .dataframe thead th {\n",
       "        text-align: right;\n",
       "    }\n",
       "</style>\n",
       "<table border=\"1\" class=\"dataframe\">\n",
       "  <thead>\n",
       "    <tr style=\"text-align: right;\">\n",
       "      <th></th>\n",
       "      <th>index</th>\n",
       "      <th>Date</th>\n",
       "      <th>Time</th>\n",
       "      <th>Location</th>\n",
       "      <th>Operator</th>\n",
       "      <th>Flight #</th>\n",
       "      <th>Route</th>\n",
       "      <th>Type</th>\n",
       "      <th>Registration</th>\n",
       "      <th>cn/In</th>\n",
       "      <th>Aboard</th>\n",
       "      <th>Fatalities</th>\n",
       "      <th>Ground</th>\n",
       "      <th>Summary</th>\n",
       "    </tr>\n",
       "  </thead>\n",
       "  <tbody>\n",
       "    <tr>\n",
       "      <th>0</th>\n",
       "      <td>0</td>\n",
       "      <td>09/17/1908</td>\n",
       "      <td>17:18</td>\n",
       "      <td>Fort Myer, Virginia</td>\n",
       "      <td>Military - U.S. Army</td>\n",
       "      <td>NaN</td>\n",
       "      <td>Demonstration</td>\n",
       "      <td>Wright Flyer III</td>\n",
       "      <td>NaN</td>\n",
       "      <td>1</td>\n",
       "      <td>2.0</td>\n",
       "      <td>1.0</td>\n",
       "      <td>0.0</td>\n",
       "      <td>During a demonstration flight, a U.S. Army fly...</td>\n",
       "    </tr>\n",
       "    <tr>\n",
       "      <th>1</th>\n",
       "      <td>1</td>\n",
       "      <td>07/12/1912</td>\n",
       "      <td>06:30</td>\n",
       "      <td>AtlantiCity, New Jersey</td>\n",
       "      <td>Military - U.S. Navy</td>\n",
       "      <td>NaN</td>\n",
       "      <td>Test flight</td>\n",
       "      <td>Dirigible</td>\n",
       "      <td>NaN</td>\n",
       "      <td>NaN</td>\n",
       "      <td>5.0</td>\n",
       "      <td>5.0</td>\n",
       "      <td>0.0</td>\n",
       "      <td>First U.S. dirigible Akron exploded just offsh...</td>\n",
       "    </tr>\n",
       "    <tr>\n",
       "      <th>2</th>\n",
       "      <td>2</td>\n",
       "      <td>08/06/1913</td>\n",
       "      <td>NaN</td>\n",
       "      <td>Victoria, British Columbia, Canada</td>\n",
       "      <td>Private</td>\n",
       "      <td>-</td>\n",
       "      <td>NaN</td>\n",
       "      <td>Curtiss seaplane</td>\n",
       "      <td>NaN</td>\n",
       "      <td>NaN</td>\n",
       "      <td>1.0</td>\n",
       "      <td>1.0</td>\n",
       "      <td>0.0</td>\n",
       "      <td>The first fatal airplane accident in Canada oc...</td>\n",
       "    </tr>\n",
       "    <tr>\n",
       "      <th>3</th>\n",
       "      <td>3</td>\n",
       "      <td>09/09/1913</td>\n",
       "      <td>18:30</td>\n",
       "      <td>Over the North Sea</td>\n",
       "      <td>Military - German Navy</td>\n",
       "      <td>NaN</td>\n",
       "      <td>NaN</td>\n",
       "      <td>Zeppelin L-1 (airship)</td>\n",
       "      <td>NaN</td>\n",
       "      <td>NaN</td>\n",
       "      <td>20.0</td>\n",
       "      <td>14.0</td>\n",
       "      <td>0.0</td>\n",
       "      <td>The airship flew into a thunderstorm and encou...</td>\n",
       "    </tr>\n",
       "    <tr>\n",
       "      <th>4</th>\n",
       "      <td>4</td>\n",
       "      <td>10/17/1913</td>\n",
       "      <td>10:30</td>\n",
       "      <td>Near Johannisthal, Germany</td>\n",
       "      <td>Military - German Navy</td>\n",
       "      <td>NaN</td>\n",
       "      <td>NaN</td>\n",
       "      <td>Zeppelin L-2 (airship)</td>\n",
       "      <td>NaN</td>\n",
       "      <td>NaN</td>\n",
       "      <td>30.0</td>\n",
       "      <td>30.0</td>\n",
       "      <td>0.0</td>\n",
       "      <td>Hydrogen gas which was being vented was sucked...</td>\n",
       "    </tr>\n",
       "  </tbody>\n",
       "</table>\n",
       "</div>"
      ],
      "text/plain": [
       "   index        Date   Time                            Location  \\\n",
       "0      0  09/17/1908  17:18                 Fort Myer, Virginia   \n",
       "1      1  07/12/1912  06:30             AtlantiCity, New Jersey   \n",
       "2      2  08/06/1913    NaN  Victoria, British Columbia, Canada   \n",
       "3      3  09/09/1913  18:30                  Over the North Sea   \n",
       "4      4  10/17/1913  10:30          Near Johannisthal, Germany   \n",
       "\n",
       "                 Operator Flight #          Route                    Type  \\\n",
       "0    Military - U.S. Army      NaN  Demonstration        Wright Flyer III   \n",
       "1    Military - U.S. Navy      NaN    Test flight               Dirigible   \n",
       "2                 Private        -            NaN        Curtiss seaplane   \n",
       "3  Military - German Navy      NaN            NaN  Zeppelin L-1 (airship)   \n",
       "4  Military - German Navy      NaN            NaN  Zeppelin L-2 (airship)   \n",
       "\n",
       "  Registration cn/In  Aboard  Fatalities  Ground  \\\n",
       "0          NaN     1     2.0         1.0     0.0   \n",
       "1          NaN   NaN     5.0         5.0     0.0   \n",
       "2          NaN   NaN     1.0         1.0     0.0   \n",
       "3          NaN   NaN    20.0        14.0     0.0   \n",
       "4          NaN   NaN    30.0        30.0     0.0   \n",
       "\n",
       "                                             Summary  \n",
       "0  During a demonstration flight, a U.S. Army fly...  \n",
       "1  First U.S. dirigible Akron exploded just offsh...  \n",
       "2  The first fatal airplane accident in Canada oc...  \n",
       "3  The airship flew into a thunderstorm and encou...  \n",
       "4  Hydrogen gas which was being vented was sucked...  "
      ]
     },
     "execution_count": 3,
     "metadata": {},
     "output_type": "execute_result"
    }
   ],
   "source": [
    "df.head()"
   ]
  },
  {
   "cell_type": "code",
   "execution_count": 4,
   "id": "6d8e53ab",
   "metadata": {},
   "outputs": [
    {
     "data": {
      "text/plain": [
       "(5268, 14)"
      ]
     },
     "execution_count": 4,
     "metadata": {},
     "output_type": "execute_result"
    }
   ],
   "source": [
    "df.shape"
   ]
  },
  {
   "cell_type": "code",
   "execution_count": 5,
   "id": "c8ddfa34",
   "metadata": {},
   "outputs": [
    {
     "data": {
      "text/plain": [
       "index              0\n",
       "Date               0\n",
       "Time            2219\n",
       "Location          20\n",
       "Operator          18\n",
       "Flight #        4199\n",
       "Route           1706\n",
       "Type              27\n",
       "Registration     335\n",
       "cn/In           1228\n",
       "Aboard            22\n",
       "Fatalities        12\n",
       "Ground            22\n",
       "Summary          390\n",
       "dtype: int64"
      ]
     },
     "execution_count": 5,
     "metadata": {},
     "output_type": "execute_result"
    }
   ],
   "source": [
    "df.isnull().sum()"
   ]
  },
  {
   "cell_type": "code",
   "execution_count": 7,
   "id": "efa15afb",
   "metadata": {},
   "outputs": [
    {
     "data": {
      "text/plain": [
       "Text(0, 0.5, 'Top Operators')"
      ]
     },
     "execution_count": 7,
     "metadata": {},
     "output_type": "execute_result"
    },
    {
     "data": {
      "image/png": "[encoded data removed]",
      "text/plain": [
       "<Figure size 432x288 with 1 Axes>"
      ]
     },
     "metadata": {
      "needs_background": "light"
     },
     "output_type": "display_data"
    }
   ],
   "source": [
    "operator_count=df.groupby(['Operator']).count()['index']\n",
    "operator_count=pd.DataFrame(operator_count).dropna(axis='rows')\n",
    "operator_count=operator_count.rename(columns={'index':'count'})\n",
    "operator_count=operator_count.sort_values(\"count\",ascending=False)\n",
    "op_count_x=np.array(operator_count.index)\n",
    "op_count_y=np.array(operator_count['count'])\n",
    "\n",
    "\n",
    "plt.barh(op_count_x[:20],op_count_y[:20])\n",
    "plt.xlabel('Crashes')\n",
    "plt.ylabel('Top Operators')"
   ]
  },
  {
   "cell_type": "code",
   "execution_count": 8,
   "id": "a2ef51e2",
   "metadata": {},
   "outputs": [
    {
     "data": {
      "text/plain": [
       "Text(0.5, 0, 'Fatalities')"
      ]
     },
     "execution_count": 8,
     "metadata": {},
     "output_type": "execute_result"
    },
    {
     "data": {
      "image/png": "[encoded data removed]",
      "text/plain": [
       "<Figure size 432x288 with 1 Axes>"
      ]
     },
     "metadata": {
      "needs_background": "light"
     },
     "output_type": "display_data"
    }
   ],
   "source": [
    "op_fatalities=pd.DataFrame(df.groupby(['Operator']).sum()['Fatalities'])\n",
    "op_fatalities=op_fatalities.sort_values(\"Fatalities\",ascending=False)\n",
    "op_fatalities_x=op_fatalities.index\n",
    "op_fatalities_y=op_fatalities['Fatalities']\n",
    "\n",
    "plt.barh(op_fatalities_x[:20],op_fatalities_y[:20])\n",
    "plt.xlabel('Fatalities')"
   ]
  },
  {
   "cell_type": "code",
   "execution_count": 13,
   "id": "03090856",
   "metadata": {},
   "outputs": [
    {
     "data": {
      "text/plain": [
       "Text(0.5, 0, 'Passengers')"
      ]
     },
     "execution_count": 13,
     "metadata": {},
     "output_type": "execute_result"
    },
    {
     "data": {
      "image/png": "[encoded data removed]",
      "text/plain": [
       "<Figure size 432x288 with 1 Axes>"
      ]
     },
     "metadata": {
      "needs_background": "light"
     },
     "output_type": "display_data"
    }
   ],
   "source": [
    "route_fatalities=df.groupby(['Route']).sum().drop(['index','Ground'],axis='columns')\n",
    "route_fatalities=route_fatalities.sort_values('Fatalities',ascending=False)\n",
    "route_fatalities[:20].plot(kind='barh')\n",
    "plt.xlabel('Passengers')"
   ]
  },
  {
   "cell_type": "code",
   "execution_count": 18,
   "id": "a9536c61",
   "metadata": {},
   "outputs": [],
   "source": [
    "time_df=pd.DataFrame(df.groupby(['Time']).count().sort_values('index',ascending=False)['index'])\n",
    "times=np.array(time_df.index)\n",
    "crash_times=[]\n",
    "for i in range(len(times)):\n",
    "    if(times[0]=='c'):\n",
    "        times[i]=times[i][3:5]\n",
    "    else:\n",
    "        times[i]=times[i][:2]\n",
    "        crash_times.append(times[i][:2])\n"
   ]
  },
  {
   "cell_type": "code",
   "execution_count": 19,
   "id": "ee0ebe1e",
   "metadata": {},
   "outputs": [
    {
     "data": {
      "text/plain": [
       "Text(0.5, 0, 'Crashes')"
      ]
     },
     "execution_count": 19,
     "metadata": {},
     "output_type": "execute_result"
    },
    {
     "data": {
      "image/png": "[encoded data removed]",
      "text/plain": [
       "<Figure size 432x288 with 1 Axes>"
      ]
     },
     "metadata": {
      "needs_background": "light"
     },
     "output_type": "display_data"
    }
   ],
   "source": [
    "times=pd.DataFrame({'Hour':crash_times,'count':np.ones(len(crash_times))})\n",
    "total_by_hour=times.groupby('Hour').count().sort_values('count',ascending=False)\n",
    "plt.barh(total_by_hour[:20].index,total_by_hour[:20]['count'])\n",
    "plt.ylabel('Hour')\n",
    "plt.xlabel('Crashes')\n"
   ]
  },
  {
   "cell_type": "code",
   "execution_count": 20,
   "id": "cdf44a1b",
   "metadata": {},
   "outputs": [
    {
     "data": {
      "text/plain": [
       "Text(0, 0.5, 'Crashes')"
      ]
     },
     "execution_count": 20,
     "metadata": {},
     "output_type": "execute_result"
    },
    {
     "data": {
      "image/png": "[encoded data removed]",
      "text/plain": [
       "<Figure size 432x288 with 1 Axes>"
      ]
     },
     "metadata": {
      "needs_background": "light"
     },
     "output_type": "display_data"
    }
   ],
   "source": [
    "time_df=pd.DataFrame(df.groupby(['Time']).count().sort_values('index',ascending=False)['index'])\n",
    "time_df.rename({'index':'Count'},axis='columns',inplace=True)\n",
    "time_df[:200].plot()\n",
    "plt.ylabel('Crashes')\n"
   ]
  },
  {
   "cell_type": "code",
   "execution_count": 21,
   "id": "d69c4979",
   "metadata": {},
   "outputs": [
    {
     "data": {
      "text/plain": [
       "Text(0.5, 0, 'Fatalities')"
      ]
     },
     "execution_count": 21,
     "metadata": {},
     "output_type": "execute_result"
    },
    {
     "data": {
      "image/png": "[encoded data removed]",
      "text/plain": [
       "<Figure size 432x288 with 1 Axes>"
      ]
     },
     "metadata": {
      "needs_background": "light"
     },
     "output_type": "display_data"
    }
   ],
   "source": [
    "op_fatalities=pd.DataFrame(df.groupby(['Operator']).sum()['Fatalities'])\n",
    "op_fatalities=op_fatalities.sort_values(\"Fatalities\",ascending=False)\n",
    "op_fatalities_x=op_fatalities.index\n",
    "op_fatalities_y=op_fatalities['Fatalities']\n",
    "\n",
    "plt.barh(op_fatalities_x[:20],op_fatalities_y[:20])\n",
    "plt.xlabel('Fatalities')\n"
   ]
  },
  {
   "cell_type": "code",
   "execution_count": null,
   "id": "a2a8c2f8",
   "metadata": {},
   "outputs": [],
   "source": []
  }
 ],
 "metadata": {
  "kernelspec": {
   "display_name": "Python 3",
   "language": "python",
   "name": "python3"
  },
  "language_info": {
   "codemirror_mode": {
    "name": "ipython",
    "version": 3
   },
   "file_extension": ".py",
   "mimetype": "text/x-python",
   "name": "python",
   "nbconvert_exporter": "python",
   "pygments_lexer": "ipython3",
   "version": "3.8.8"
  }
 },
 "nbformat": 4,
 "nbformat_minor": 5
}
